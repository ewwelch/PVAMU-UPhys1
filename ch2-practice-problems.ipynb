{
 "cells": [
  {
   "cell_type": "code",
   "execution_count": 1,
   "id": "d7764942",
   "metadata": {},
   "outputs": [],
   "source": [
    "import numpy as np\n",
    "import matplotlib.pyplot as plt\n",
    "import sympy as sym"
   ]
  },
  {
   "cell_type": "markdown",
   "id": "cd3a974d",
   "metadata": {},
   "source": [
    "2.32 \\\n",
    "An electron moves in the positive *x*-direction a distance of $2.42 m$ in $2.91 \\times 10^{-8} s$, bounces off a moving proton, and then moves in the opposite direction a distance of $1.69 m$ in $3.43 \\times 10^{-8} s$. \\\n",
    "a) What is the average velocity of the electron over the entire time interval?? \\\n",
    "b) What is the average speed over the entire time interval?? "
   ]
  },
  {
   "cell_type": "code",
   "execution_count": 3,
   "id": "8b1c22f3",
   "metadata": {},
   "outputs": [
    {
     "name": "stdout",
     "output_type": "stream",
     "text": [
      "dx/dt =  11514195.583596215\n",
      "In scientific notation, dx/dt =  1.15e+07\n"
     ]
    }
   ],
   "source": [
    "# Part a: velocity is a vector, so use displacement\n",
    "x0 = 0\n",
    "x1 = 2.42\n",
    "x2 = 1.69\n",
    "\n",
    "t0 = 0\n",
    "t1 = 2.91e-8\n",
    "t2 = t1 + 3.43e-8\n",
    "\n",
    "dx = x1 - x2 # forward in positive x, then backward in negative x\n",
    "dt = t2 - t0\n",
    "\n",
    "print('dx/dt = ', dx/dt)\n",
    "print('In scientific notation, dx/dt = ', f\"{(dx/dt):.2e}\")"
   ]
  },
  {
   "cell_type": "code",
   "execution_count": 4,
   "id": "e88a87a7",
   "metadata": {},
   "outputs": [
    {
     "name": "stdout",
     "output_type": "stream",
     "text": [
      "dx/dt =  64826498.42271293\n",
      "In scientific notation, dx/dt =  6.48e+07\n"
     ]
    }
   ],
   "source": [
    "# Part b: speed is a scalar, so use distance\n",
    "x = x1 + x2\n",
    "t = t2 - t0\n",
    "\n",
    "print('dx/dt = ', x/t)\n",
    "print('In scientific notation, dx/dt = ', f\"{(x/t):.2e}\")"
   ]
  },
  {
   "cell_type": "markdown",
   "id": "ff4b9aa1",
   "metadata": {},
   "source": [
    "2.43 \\\n",
    "The velocity of a particle moving along the *x*-axis is given, for $t>0$, by $v_x = (50.0t - 2.0t^3 m/s$) where *t* is in seconds.  What is the acceleration of the particle when (after $t=0$) it achieves its maximum displacement in the positive *x*-direction? "
   ]
  },
  {
   "cell_type": "code",
   "execution_count": 5,
   "id": "78beee3e",
   "metadata": {},
   "outputs": [
    {
     "name": "stdout",
     "output_type": "stream",
     "text": [
      "v = 50t - 2t^3 = 2t(25-t^2) = 0\n",
      "t = 0, -5, +5; take +5\n",
      "a = dv/dt\n",
      "a = 50 - 6*t**2\n",
      "a(t=5) = 50 - 6*25 = -100 m/s^2\n"
     ]
    }
   ],
   "source": [
    "# Maximum displacement occurs when v = 0 m/s\n",
    "# Acceleration is the derivative of velocity: a = dv/dt\n",
    "t = sym.symbols('t')\n",
    "print('v = 50t - 2t^3 = 2t(25-t^2) = 0') \n",
    "# 2t = 0, (25-t^2) = 0, t^2 = 25\n",
    "print('t = 0, -5, +5; take +5') # -5 occurs before measurement began, shows quadratic relationship\n",
    "print('a = dv/dt')\n",
    "a = sym.diff((50*t-(2*t**3)), t)\n",
    "print('a =', a)\n",
    "print('a(t=5) = 50 - 6*25 = -100 m/s^2')"
   ]
  },
  {
   "cell_type": "markdown",
   "id": "c99e97ff",
   "metadata": {},
   "source": [
    "2.47 \\\n",
    "A particle starts from rest at $x=0.00$ and moves for $20.0 s$ with an acceleration of $2.00 cm/s^2$.  For the next $40.0 s$, the acceleration of the particle $-4.00 cm/s^2$.  What is the position of the particle at the end of this motion??"
   ]
  },
  {
   "cell_type": "code",
   "execution_count": 7,
   "id": "eb9d4fae",
   "metadata": {},
   "outputs": [],
   "source": [
    "x0 = 0\n",
    "v0 = 0\n",
    "t1 = 20\n",
    "a1 = 2\n",
    "t2 = t1 + 40\n",
    "a2 = -4"
   ]
  },
  {
   "cell_type": "markdown",
   "id": "264c1e92",
   "metadata": {},
   "source": [
    "$\\int dv = \\int_{t=0}^{t=20} adt \\rightarrow v_f = v_0 + at|_{t=0}^{t=20}$ \\\n",
    "$\\int dx = \\int_{t=20}^{t=40} vdt \\rightarrow x_f = x_0 + \\int_{t=20}^{t=40} (v_0 + at)dt = x_0 + v_0t|_{t=0}^{t=20} + (1/2)at^2|_{t=0}^{t=20}$"
   ]
  },
  {
   "cell_type": "code",
   "execution_count": 8,
   "id": "12915e13",
   "metadata": {},
   "outputs": [
    {
     "name": "stdout",
     "output_type": "stream",
     "text": [
      "x total =  -1200.0\n"
     ]
    }
   ],
   "source": [
    "x1 = x0 + v0*(20-0) + 0.5*a1*(20-0)**2 # displacement after 20 seconds\n",
    "v1 = v0 + a1*(20-0) # velocity after 20 seconds\n",
    "x2 = x1 + v1*(t2-t1) + 0.5*a2*(t2-t1)**2 # displacement after 60 seconds\n",
    "print('x total = ', x2)"
   ]
  },
  {
   "attachments": {
    "p2.52.png": {
     "image/png": "[encoded data removed]"
    }
   },
   "cell_type": "markdown",
   "id": "84580662",
   "metadata": {},
   "source": [
    "![p2.52.png](attachment:p2.52.png)\n",
    "2.52 \\\n",
    "A car is moving along the *x*-axis and its velocity, $v_x$ varies with time as shown in the figure above.  What is the displacment, $\\Delta x$, of the car from $t=4 s$ to $t=9 s$"
   ]
  },
  {
   "cell_type": "code",
   "execution_count": 9,
   "id": "4b7f56ec",
   "metadata": {},
   "outputs": [
    {
     "name": "stdout",
     "output_type": "stream",
     "text": [
      "-3.0\n"
     ]
    }
   ],
   "source": [
    "# section 1: t = 4s - 5s\n",
    "# section 2: t = 5s - 8s\n",
    "# section 3: t = 8s - 9s\n",
    "# remember that an integral is the area under a curve (over if curve is under x axis)\n",
    "x1 = (1/2)*1*4\n",
    "x2 = (1/2)*3*(-4)\n",
    "x3 = (1/2)*1*2\n",
    "xtot = x1 + x2 + x3\n",
    "print(xtot)"
   ]
  },
  {
   "cell_type": "markdown",
   "id": "d71a77f2",
   "metadata": {},
   "source": [
    "2.56 \\\n",
    "A runner of mass $57.5 kg$ starts from rest and accelerates with a constant acceleration of $1.25 m/s^2$ until she reaches a velocity of $6.3 m/s$.  She then continues running with this constant velocity.\\\n",
    "a) How far has she run after 59.7 s. \\\n",
    "b) What is the velocity of the runner at this point??"
   ]
  },
  {
   "cell_type": "code",
   "execution_count": 143,
   "id": "5cd99b6c",
   "metadata": {},
   "outputs": [
    {
     "name": "stdout",
     "output_type": "stream",
     "text": [
      "x total = 369.16425\n",
      "v2 =  6.3\n"
     ]
    }
   ],
   "source": [
    "v0 = 0\n",
    "x0 = 0\n",
    "a = 1.25\n",
    "v1 = 6.3\n",
    "t2 = 59.7\n",
    "\n",
    "t1 = v1 / a # time to get to v1, use v1 = v0 + at\n",
    "x1 = (v1**2) / 2*a # distance covered during t1, use v1^2 = v0^2 - 2a(x1-x0)\n",
    "\n",
    "x2 = x1 + v1*(t2-t1) # distance covered over whole time interval\n",
    "print('x total =', x2)\n",
    "print('v2 = ', v1) # constant velocity after reaching v1"
   ]
  },
  {
   "cell_type": "markdown",
   "id": "00f728cd",
   "metadata": {},
   "source": [
    "2.70 \\\n",
    "An object is thrown vertically upward and has a speed of 20.0 m/s when it reaches two thirds of its maximum height above the launch point.  Determine its maximum height."
   ]
  },
  {
   "cell_type": "code",
   "execution_count": 10,
   "id": "31b85fb9",
   "metadata": {},
   "outputs": [
    {
     "name": "stdout",
     "output_type": "stream",
     "text": [
      "max height = 61.22\n"
     ]
    }
   ],
   "source": [
    "# v(h=2h/3) = 20 m/s\n",
    "g = 9.8\n",
    "v0 = 0\n",
    "v1 = 20\n",
    "v2 = 0\n",
    "\n",
    "# v2^2 = v1^2 -2g(h - 2h/3) -> v2^2 - v1^2 = -2g(h/3) -> -3(v2^2-v1^2)/2g = 3v1^2/2g = h\n",
    "h = 3*(v1**2) / (2*g)\n",
    "\n",
    "print('max height =', f\"{(h):.2f}\")"
   ]
  },
  {
   "cell_type": "code",
   "execution_count": null,
   "id": "14818a5d",
   "metadata": {},
   "outputs": [],
   "source": []
  },
  {
   "cell_type": "code",
   "execution_count": null,
   "id": "c7f5e141",
   "metadata": {},
   "outputs": [],
   "source": []
  }
 ],
 "metadata": {
  "kernelspec": {
   "display_name": "Python 3 (ipykernel)",
   "language": "python",
   "name": "python3"
  },
  "language_info": {
   "codemirror_mode": {
    "name": "ipython",
    "version": 3
   },
   "file_extension": ".py",
   "mimetype": "text/x-python",
   "name": "python",
   "nbconvert_exporter": "python",
   "pygments_lexer": "ipython3",
   "version": "3.8.9"
  }
 },
 "nbformat": 4,
 "nbformat_minor": 5
}
