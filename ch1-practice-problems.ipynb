{
 "cells": [
  {
   "cell_type": "code",
   "execution_count": 1,
   "id": "5fdfb48c",
   "metadata": {},
   "outputs": [],
   "source": [
    "import numpy as np"
   ]
  },
  {
   "cell_type": "code",
   "execution_count": 12,
   "id": "1e18989c",
   "metadata": {},
   "outputs": [
    {
     "name": "stdout",
     "output_type": "stream",
     "text": [
      "163.67999999999998\n",
      "1.636800e+02\n"
     ]
    }
   ],
   "source": [
    "x = 1.1*10**(3) \n",
    "y = 2.48*10**(-2)\n",
    "z = 6.000\n",
    "\n",
    "print(x*y*z)\n",
    "print(\"{:e}\".format(x*y*z))"
   ]
  },
  {
   "cell_type": "code",
   "execution_count": 2,
   "id": "1d63966f",
   "metadata": {},
   "outputs": [
    {
     "name": "stdout",
     "output_type": "stream",
     "text": [
      "1.948219e+06\n"
     ]
    }
   ],
   "source": [
    "foot = 12 # inches\n",
    "mile = 5280 # feet\n",
    "\n",
    "inches = 30.7484 * mile * foot\n",
    "print(\"{:e}\".format(inches))"
   ]
  },
  {
   "cell_type": "code",
   "execution_count": 3,
   "id": "d831aa2d",
   "metadata": {},
   "outputs": [
    {
     "name": "stdout",
     "output_type": "stream",
     "text": [
      "55.0\n",
      "55.0\n",
      "9.166666666666666\n",
      "9.166666666666666\n"
     ]
    }
   ],
   "source": [
    "x0 = 0.7\n",
    "x1 = 3.2\n",
    "x2 = 6.5\n",
    "x3 = 8.3\n",
    "x4 = 10\n",
    "x5 = 11.5\n",
    "x6 = 15.5\n",
    "\n",
    "# or\n",
    "\n",
    "x = [0.7, 3.2, 6.5, 8.3, 10, 11.5, 15.5]\n",
    "\n",
    "d1 = x1 + x2 + x3 + x4 + x5 + x6\n",
    "d2 = np.sum(x) - x[0]\n",
    "\n",
    "ad1 = d1 / 6\n",
    "ad2 = d2 / 6\n",
    "\n",
    "print(d1)\n",
    "print(d2)\n",
    "print(ad1)\n",
    "print(ad2)"
   ]
  },
  {
   "cell_type": "code",
   "execution_count": 22,
   "id": "ea7e6de5",
   "metadata": {},
   "outputs": [
    {
     "name": "stdout",
     "output_type": "stream",
     "text": [
      "1.0\n"
     ]
    }
   ],
   "source": [
    "cc_h20 = 1 # gram\n",
    "mL = 1**3 # cm^3\n",
    "mL = 1 # gram\n",
    "\n",
    "L = mL / 1000\n",
    "mass_L = mL * 1000 / 1000 # (1g/mL)  * (1000mL/L) * (1kg/1000g)\n",
    "print(mass_L)"
   ]
  },
  {
   "cell_type": "code",
   "execution_count": 26,
   "id": "37c5cadc",
   "metadata": {},
   "outputs": [
    {
     "name": "stdout",
     "output_type": "stream",
     "text": [
      "1.000000e+06\n"
     ]
    }
   ],
   "source": [
    "m_ton = 1000 # kg\n",
    "kg = 1000 # grams\n",
    "cc_ton = kg * 1000 * mL # (1000kg) * (1000g/1kg) * (1cc/1g)\n",
    "print(\"{:e}\".format(cc_ton))"
   ]
  },
  {
   "cell_type": "code",
   "execution_count": 36,
   "id": "501101f1",
   "metadata": {},
   "outputs": [
    {
     "name": "stdout",
     "output_type": "stream",
     "text": [
      "surface area earth: 5.147185e+14\n",
      "surface area sun: 3.895905e+16\n",
      "ratio of radii:  75.68999999999998\n",
      "75.68999999999998\n"
     ]
    }
   ],
   "source": [
    "r_e = 6.4 * 10**6 # earth's radius in meters\n",
    "r_p = 8.7 * r_e\n",
    "sa_e = 4 * np.pi * r_e**2\n",
    "sa_p = 4 * np.pi * r_p**2\n",
    "print('surface area earth:', \"{:e}\".format(sa_e))\n",
    "print('surface area sun:', \"{:e}\".format(sa_p))\n",
    "print('ratio of radii: ', sa_p / sa_e)\n",
    "print(8.7**2)"
   ]
  },
  {
   "cell_type": "code",
   "execution_count": 35,
   "id": "67fad06b",
   "metadata": {},
   "outputs": [
    {
     "name": "stdout",
     "output_type": "stream",
     "text": [
      "volume earth:  1.0980662194435236e+21\n",
      "volume sun: 1.4143361396663112e+27\n",
      "density earth: 6.555455e+45\n",
      "density sun: 2.814529e+57\n"
     ]
    }
   ],
   "source": [
    "r_sun = 696.34 * 10**6 # sun's radius in meters\n",
    "v_e = (4 * np.pi * r_e**3) / 3\n",
    "v_sun = (4 * np.pi * r_sun**3) / 3\n",
    "m_e = 5.97 * 10**24 # kg\n",
    "m_sun = 1.99 * 10**30 # kg\n",
    "density_e = m_e * v_e\n",
    "density_sun = m_sun * v_sun\n",
    "print('volume earth: ', v_e)\n",
    "print('volume sun:', v_sun)\n",
    "print('mass earth:', \"{:e}\".format(density_e))\n",
    "print('mass sun:', \"{:e}\".format(density_sun))"
   ]
  },
  {
   "cell_type": "code",
   "execution_count": 39,
   "id": "870b6c5c",
   "metadata": {},
   "outputs": [
    {
     "name": "stdout",
     "output_type": "stream",
     "text": [
      "ax: 11.568858741568803\n",
      "ay: -74.10237180696464\n",
      "bx: 74.1528463640002\n",
      "by: 11.240790724721426\n",
      "cx: -12.22430855967791\n",
      "cy: 73.9970694030364\n",
      "dx: -21.910410655037715\n",
      "dy: 71.72819463033773\n"
     ]
    }
   ],
   "source": [
    "a = 75\n",
    "b = 60\n",
    "c = 25\n",
    "d = 90\n",
    "a_ = 30\n",
    "b_ = 19\n",
    "c_ = 52\n",
    "d_ = 27\n",
    "\n",
    "ax = a*np.cos(a_)\n",
    "ay = a*np.sin(a_)\n",
    "\n",
    "bx = a*np.cos(b_)\n",
    "by = a*np.sin(b_)\n",
    "\n",
    "cx = a*np.cos(c_)\n",
    "cy = a*np.sin(c_)\n",
    "\n",
    "dx = a*np.cos(d_)\n",
    "dy = a*np.sin(d_)\n",
    "\n",
    "print('ax:', ax)\n",
    "print('ay:', ay)\n",
    "print('bx:', bx)\n",
    "print('by:', by)\n",
    "print('cx:', cx)\n",
    "print('cy:', cy)\n",
    "print('dx:', dx)\n",
    "print('dy:', dy)"
   ]
  },
  {
   "cell_type": "code",
   "execution_count": 41,
   "id": "1f0b87d4",
   "metadata": {},
   "outputs": [
    {
     "name": "stdout",
     "output_type": "stream",
     "text": [
      "4.5\n"
     ]
    }
   ],
   "source": [
    "a1 = 1.5\n",
    "a2 = np.sqrt((1.5*np.cos(20))**2 + (1.5*np.sin(20))**2)\n",
    "a3 = 1.5\n",
    "distance = a1 + a2 + a3\n",
    "print(distance)"
   ]
  },
  {
   "cell_type": "code",
   "execution_count": null,
   "id": "de377da1",
   "metadata": {},
   "outputs": [],
   "source": []
  }
 ],
 "metadata": {
  "kernelspec": {
   "display_name": "Python 3 (ipykernel)",
   "language": "python",
   "name": "python3"
  },
  "language_info": {
   "codemirror_mode": {
    "name": "ipython",
    "version": 3
   },
   "file_extension": ".py",
   "mimetype": "text/x-python",
   "name": "python",
   "nbconvert_exporter": "python",
   "pygments_lexer": "ipython3",
   "version": "3.8.9"
  }
 },
 "nbformat": 4,
 "nbformat_minor": 5
}
